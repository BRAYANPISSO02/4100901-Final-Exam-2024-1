{
  "cells": [
    {
      "cell_type": "markdown",
      "metadata": {
        "id": "UIECXw8Mjf9u"
      },
      "source": [
        "# Robotics, Vision & Control 3e: for Python\n",
        "## Chapter 6: Localization and Mapping\n",
        "\n",
        "Copyright (c) 2021- Peter Corke"
      ],
      "id": "UIECXw8Mjf9u"
    },
    {
      "cell_type": "code",
      "execution_count": null,
      "id": "5f0c609c",
      "metadata": {
        "id": "5f0c609c",
        "outputId": "ddf5a21c-da72-4061-8e4d-c55d8b776e2b",
        "colab": {
          "base_uri": "https://localhost:8080/"
        }
      },
      "outputs": [
        {
          "output_type": "stream",
          "name": "stdout",
          "text": [
            "Running on CoLab\n",
            "Collecting git+https://github.com/petercorke/robotics-toolbox-python@future\n",
            "  Cloning https://github.com/petercorke/robotics-toolbox-python (to revision future) to /tmp/pip-req-build-eqrwj6dn\n",
            "  Running command git clone --filter=blob:none --quiet https://github.com/petercorke/robotics-toolbox-python /tmp/pip-req-build-eqrwj6dn\n",
            "  Running command git checkout -b future --track origin/future\n",
            "  Switched to a new branch 'future'\n",
            "  Branch 'future' set up to track remote branch 'future' from 'origin'.\n",
            "  Resolved https://github.com/petercorke/robotics-toolbox-python to commit 6188446a943f6c4d830b4d79b0a36b45cd3e7084\n",
            "  Installing build dependencies ... \u001b[?25l\u001b[?25hdone\n",
            "  Getting requirements to build wheel ... \u001b[?25l\u001b[?25hdone\n",
            "  Preparing metadata (pyproject.toml) ... \u001b[?25l\u001b[?25hdone\n",
            "Requirement already satisfied: numpy>=1.17.4 in /usr/local/lib/python3.11/dist-packages (from roboticstoolbox-python==1.2.0) (1.26.4)\n",
            "Requirement already satisfied: spatialmath-python>=1.1.5 in /usr/local/lib/python3.11/dist-packages (from roboticstoolbox-python==1.2.0) (1.1.14)\n",
            "Collecting spatialgeometry>=1.0.0 (from roboticstoolbox-python==1.2.0)\n",
            "  Using cached spatialgeometry-1.1.0-cp311-cp311-manylinux_2_5_x86_64.manylinux1_x86_64.manylinux_2_17_x86_64.manylinux2014_x86_64.whl.metadata (4.5 kB)\n",
            "Collecting pgraph-python (from roboticstoolbox-python==1.2.0)\n",
            "  Using cached pgraph_python-0.6.3-py3-none-any.whl.metadata (7.5 kB)\n",
            "Requirement already satisfied: scipy in /usr/local/lib/python3.11/dist-packages (from roboticstoolbox-python==1.2.0) (1.13.1)\n",
            "Requirement already satisfied: matplotlib in /usr/local/lib/python3.11/dist-packages (from roboticstoolbox-python==1.2.0) (3.10.0)\n",
            "Requirement already satisfied: ansitable in /usr/local/lib/python3.11/dist-packages (from roboticstoolbox-python==1.2.0) (0.11.4)\n",
            "Collecting swift-sim>=1.0.0 (from roboticstoolbox-python==1.2.0)\n",
            "  Using cached swift_sim-1.1.0-cp311-cp311-manylinux_2_5_x86_64.manylinux1_x86_64.manylinux_2_17_x86_64.manylinux2014_x86_64.whl.metadata (8.3 kB)\n",
            "Collecting rtb-data (from roboticstoolbox-python==1.2.0)\n",
            "  Using cached rtb-data-1.0.1.tar.gz (114.7 MB)\n",
            "  Preparing metadata (setup.py) ... \u001b[?25l\u001b[?25hdone\n",
            "Collecting progress (from roboticstoolbox-python==1.2.0)\n",
            "  Using cached progress-1.6.tar.gz (7.8 kB)\n",
            "  Preparing metadata (setup.py) ... \u001b[?25l\u001b[?25hdone\n",
            "Requirement already satisfied: typing_extensions in /usr/local/lib/python3.11/dist-packages (from roboticstoolbox-python==1.2.0) (4.12.2)\n",
            "Requirement already satisfied: pre-commit in /usr/local/lib/python3.11/dist-packages (from spatialmath-python>=1.1.5->roboticstoolbox-python==1.2.0) (4.1.0)\n",
            "Requirement already satisfied: websockets in /usr/local/lib/python3.11/dist-packages (from swift-sim>=1.0.0->roboticstoolbox-python==1.2.0) (14.2)\n",
            "Requirement already satisfied: colored in /usr/local/lib/python3.11/dist-packages (from ansitable->roboticstoolbox-python==1.2.0) (2.2.5)\n",
            "Requirement already satisfied: contourpy>=1.0.1 in /usr/local/lib/python3.11/dist-packages (from matplotlib->roboticstoolbox-python==1.2.0) (1.3.1)\n",
            "Requirement already satisfied: cycler>=0.10 in /usr/local/lib/python3.11/dist-packages (from matplotlib->roboticstoolbox-python==1.2.0) (0.12.1)\n",
            "Requirement already satisfied: fonttools>=4.22.0 in /usr/local/lib/python3.11/dist-packages (from matplotlib->roboticstoolbox-python==1.2.0) (4.55.7)\n",
            "Requirement already satisfied: kiwisolver>=1.3.1 in /usr/local/lib/python3.11/dist-packages (from matplotlib->roboticstoolbox-python==1.2.0) (1.4.8)\n",
            "Requirement already satisfied: packaging>=20.0 in /usr/local/lib/python3.11/dist-packages (from matplotlib->roboticstoolbox-python==1.2.0) (24.2)\n",
            "Requirement already satisfied: pillow>=8 in /usr/local/lib/python3.11/dist-packages (from matplotlib->roboticstoolbox-python==1.2.0) (11.1.0)\n",
            "Requirement already satisfied: pyparsing>=2.3.1 in /usr/local/lib/python3.11/dist-packages (from matplotlib->roboticstoolbox-python==1.2.0) (3.2.1)\n",
            "Requirement already satisfied: python-dateutil>=2.7 in /usr/local/lib/python3.11/dist-packages (from matplotlib->roboticstoolbox-python==1.2.0) (2.8.2)\n",
            "Requirement already satisfied: six>=1.5 in /usr/local/lib/python3.11/dist-packages (from python-dateutil>=2.7->matplotlib->roboticstoolbox-python==1.2.0) (1.17.0)\n",
            "Requirement already satisfied: cfgv>=2.0.0 in /usr/local/lib/python3.11/dist-packages (from pre-commit->spatialmath-python>=1.1.5->roboticstoolbox-python==1.2.0) (3.4.0)\n",
            "Requirement already satisfied: identify>=1.0.0 in /usr/local/lib/python3.11/dist-packages (from pre-commit->spatialmath-python>=1.1.5->roboticstoolbox-python==1.2.0) (2.6.6)\n",
            "Requirement already satisfied: nodeenv>=0.11.1 in /usr/local/lib/python3.11/dist-packages (from pre-commit->spatialmath-python>=1.1.5->roboticstoolbox-python==1.2.0) (1.9.1)\n",
            "Requirement already satisfied: pyyaml>=5.1 in /usr/local/lib/python3.11/dist-packages (from pre-commit->spatialmath-python>=1.1.5->roboticstoolbox-python==1.2.0) (6.0.2)\n",
            "Requirement already satisfied: virtualenv>=20.10.0 in /usr/local/lib/python3.11/dist-packages (from pre-commit->spatialmath-python>=1.1.5->roboticstoolbox-python==1.2.0) (20.29.1)\n",
            "Requirement already satisfied: distlib<1,>=0.3.7 in /usr/local/lib/python3.11/dist-packages (from virtualenv>=20.10.0->pre-commit->spatialmath-python>=1.1.5->roboticstoolbox-python==1.2.0) (0.3.9)\n",
            "Requirement already satisfied: filelock<4,>=3.12.2 in /usr/local/lib/python3.11/dist-packages (from virtualenv>=20.10.0->pre-commit->spatialmath-python>=1.1.5->roboticstoolbox-python==1.2.0) (3.17.0)\n",
            "Requirement already satisfied: platformdirs<5,>=3.9.1 in /usr/local/lib/python3.11/dist-packages (from virtualenv>=20.10.0->pre-commit->spatialmath-python>=1.1.5->roboticstoolbox-python==1.2.0) (4.3.6)\n",
            "Using cached spatialgeometry-1.1.0-cp311-cp311-manylinux_2_5_x86_64.manylinux1_x86_64.manylinux_2_17_x86_64.manylinux2014_x86_64.whl (1.5 MB)\n",
            "Using cached swift_sim-1.1.0-cp311-cp311-manylinux_2_5_x86_64.manylinux1_x86_64.manylinux_2_17_x86_64.manylinux2014_x86_64.whl (2.1 MB)\n",
            "Using cached pgraph_python-0.6.3-py3-none-any.whl (17 kB)\n",
            "Building wheels for collected packages: roboticstoolbox-python, progress, rtb-data\n"
          ]
        }
      ],
      "source": [
        "try:\n",
        "    import google.colab\n",
        "    print('Running on CoLab')\n",
        "    COLAB = True\n",
        "    #!pip install roboticstoolbox-python>=1.0.2\n",
        "    !pip install git+https://github.com/petercorke/robotics-toolbox-python@future\n",
        "    !pip install spatialmath-python>=1.1.5\n",
        "    !pip install --no-deps rvc3python\n",
        "except ModuleNotFoundError:\n",
        "    COLAB = False\n",
        "\n",
        "from IPython.core.interactiveshell import InteractiveShell\n",
        "InteractiveShell.ast_node_interactivity = \"last_expr_or_assign\"\n",
        "from IPython.display import HTML\n",
        "\n",
        "import matplotlib.pyplot as plt\n",
        "\n",
        "# add RTB examples folder to the path\n",
        "import sys, os.path\n",
        "import RVC3 as rvc\n",
        "sys.path.append(os.path.join(rvc.__path__[0], 'models'))\n",
        "\n",
        "# ------ standard imports ------ #\n",
        "import numpy as np\n",
        "import math\n",
        "from math import pi\n",
        "np.set_printoptions(\n",
        "    linewidth=120, formatter={\n",
        "        'float': lambda x: f\"{0:8.4g}\" if abs(x) < 1e-10 else f\"{x:8.4g}\"})\n",
        "np.random.seed(0)\n",
        "from spatialmath import *\n",
        "from spatialmath.base import *\n",
        "from roboticstoolbox import *"
      ]
    },
    {
      "cell_type": "markdown",
      "id": "b21f6c9e",
      "metadata": {
        "id": "b21f6c9e"
      },
      "source": [
        "There are some minor code changes compared to the book. These are to support\n",
        "animations in the Jupyter environment. Animations can be made using `FuncAnimation` and\n",
        "the `widget` backend, but with Colab these can be very unsmooth.  Instead we render the\n",
        "animations to HTML5 and render them locally in the browser."
      ]
    },
    {
      "cell_type": "markdown",
      "id": "7173cbff",
      "metadata": {
        "id": "7173cbff"
      },
      "source": [
        "# 6.1 Dead Reckoning using Odometry\n"
      ]
    },
    {
      "cell_type": "markdown",
      "id": "44474c30",
      "metadata": {
        "id": "44474c30"
      },
      "source": [
        "## 6.1.1 Modeling the Robot\n"
      ]
    },
    {
      "cell_type": "code",
      "execution_count": null,
      "id": "359c2eb9",
      "metadata": {
        "id": "359c2eb9"
      },
      "outputs": [],
      "source": [
        "V = np.diag([0.02, np.deg2rad(0.5)]) ** 2;"
      ]
    },
    {
      "cell_type": "code",
      "execution_count": null,
      "id": "4c8ba37e",
      "metadata": {
        "id": "4c8ba37e"
      },
      "outputs": [],
      "source": [
        "robot = Bicycle(covar=V, animation=\"car\")"
      ]
    },
    {
      "cell_type": "code",
      "execution_count": null,
      "id": "7f7ce323",
      "metadata": {
        "id": "7f7ce323"
      },
      "outputs": [],
      "source": [
        "odo = robot.step((1, 0.3))"
      ]
    },
    {
      "cell_type": "code",
      "execution_count": null,
      "id": "f52ca878",
      "metadata": {
        "id": "f52ca878"
      },
      "outputs": [],
      "source": [
        "robot.q"
      ]
    },
    {
      "cell_type": "code",
      "execution_count": null,
      "id": "e4bd4eef",
      "metadata": {
        "id": "e4bd4eef"
      },
      "outputs": [],
      "source": [
        "robot.f([0, 0, 0], odo)"
      ]
    },
    {
      "cell_type": "code",
      "execution_count": null,
      "id": "0884d08f",
      "metadata": {
        "id": "0884d08f"
      },
      "outputs": [],
      "source": [
        "robot.control = RandomPath(workspace=10)"
      ]
    },
    {
      "cell_type": "code",
      "execution_count": null,
      "id": "8ef353dc",
      "metadata": {
        "id": "8ef353dc"
      },
      "outputs": [],
      "source": [
        "# robot.run(T=10);\n",
        "\n",
        "html = robot.run_animation(T=20, format=\"html\");\n",
        "HTML(html)"
      ]
    },
    {
      "cell_type": "markdown",
      "id": "3bb83c3d",
      "metadata": {
        "id": "3bb83c3d"
      },
      "source": [
        "## 6.1.2 Estimating Pose\n"
      ]
    },
    {
      "cell_type": "code",
      "execution_count": null,
      "id": "0a699eca",
      "metadata": {
        "id": "0a699eca"
      },
      "outputs": [],
      "source": [
        "robot.Fx([0, 0, 0], [0.5, 0.1])"
      ]
    },
    {
      "cell_type": "code",
      "execution_count": null,
      "id": "27545a4c",
      "metadata": {
        "id": "27545a4c"
      },
      "outputs": [],
      "source": [
        "x_sdev = [0.05, 0.05, np.deg2rad(0.5)];\n",
        "P0 = np.diag(x_sdev) ** 2;"
      ]
    },
    {
      "cell_type": "code",
      "execution_count": null,
      "id": "d17277fe",
      "metadata": {
        "id": "d17277fe"
      },
      "outputs": [],
      "source": [
        "ekf = EKF(robot=(robot, V), P0=P0)"
      ]
    },
    {
      "cell_type": "code",
      "execution_count": null,
      "id": "2a852ad2",
      "metadata": {
        "id": "2a852ad2"
      },
      "outputs": [],
      "source": [
        "# ekf.run(T=20);\n",
        "\n",
        "html = ekf.run_animation(T=20, format=\"html\");\n",
        "HTML(html)"
      ]
    },
    {
      "cell_type": "code",
      "execution_count": null,
      "id": "5f9ca8ea",
      "metadata": {
        "id": "5f9ca8ea"
      },
      "outputs": [],
      "source": [
        "robot.plot_xy(color=\"b\")\n",
        "ekf.plot_xy(color=\"r\")"
      ]
    },
    {
      "cell_type": "code",
      "execution_count": null,
      "id": "dbf95a82",
      "metadata": {
        "id": "dbf95a82"
      },
      "outputs": [],
      "source": [
        "P150 = ekf.get_P(150)"
      ]
    },
    {
      "cell_type": "code",
      "execution_count": null,
      "id": "ad76507e",
      "metadata": {
        "id": "ad76507e"
      },
      "outputs": [],
      "source": [
        "np.sqrt(P150[0, 0])"
      ]
    },
    {
      "cell_type": "code",
      "execution_count": null,
      "id": "1045f6ed",
      "metadata": {
        "id": "1045f6ed"
      },
      "outputs": [],
      "source": [
        "ekf.plot_xy(color=\"r\")\n",
        "ekf.plot_ellipse(filled=True, facecolor=\"g\", alpha=0.3)"
      ]
    },
    {
      "cell_type": "code",
      "execution_count": null,
      "id": "16a96290",
      "metadata": {
        "id": "16a96290"
      },
      "outputs": [],
      "source": [
        "t = ekf.get_t();\n",
        "pn = ekf.get_Pnorm();\n",
        "plt.plot(t, pn);"
      ]
    },
    {
      "cell_type": "markdown",
      "id": "747aafb0",
      "metadata": {
        "id": "747aafb0"
      },
      "source": [
        "# 6.2 Localizing with a Landmark Map\n"
      ]
    },
    {
      "cell_type": "code",
      "execution_count": null,
      "id": "3ce7bfd9",
      "metadata": {
        "id": "3ce7bfd9"
      },
      "outputs": [],
      "source": [
        "map = LandmarkMap(20, workspace=10)"
      ]
    },
    {
      "cell_type": "code",
      "execution_count": null,
      "id": "8095dabf",
      "metadata": {
        "id": "8095dabf"
      },
      "outputs": [],
      "source": [
        "map.plot()"
      ]
    },
    {
      "cell_type": "code",
      "execution_count": null,
      "id": "88405804",
      "metadata": {
        "id": "88405804"
      },
      "outputs": [],
      "source": [
        "W = np.diag([0.1, np.deg2rad(1)]) ** 2;"
      ]
    },
    {
      "cell_type": "code",
      "execution_count": null,
      "id": "a8686311",
      "metadata": {
        "id": "a8686311"
      },
      "outputs": [],
      "source": [
        "sensor = RangeBearingSensor(robot=robot, map=map, covar=W,\n",
        "           angle=[-pi/2, pi/2], range=4, animate=True)"
      ]
    },
    {
      "cell_type": "code",
      "execution_count": null,
      "id": "8aa97d9e",
      "metadata": {
        "id": "8aa97d9e"
      },
      "outputs": [],
      "source": [
        "z, i = sensor.reading()\n",
        "# z\n",
        "# i\n",
        "print(f\"landmark {i} at {z}\")"
      ]
    },
    {
      "cell_type": "code",
      "execution_count": null,
      "id": "dd540b0d",
      "metadata": {
        "id": "dd540b0d"
      },
      "outputs": [],
      "source": [
        "map[15]"
      ]
    },
    {
      "cell_type": "code",
      "execution_count": null,
      "id": "93c1639c",
      "metadata": {
        "id": "93c1639c"
      },
      "outputs": [],
      "source": [
        "map = LandmarkMap(20, workspace=10);\n",
        "V = np.diag([0.02, np.deg2rad(0.5)]) ** 2\n",
        "robot = Bicycle(covar=V, animation=\"car\");\n",
        "robot.control = RandomPath(workspace=map, seed=0)\n",
        "W = np.diag([0.1, np.deg2rad(1)]) ** 2\n",
        "sensor = RangeBearingSensor(robot=robot, map=map, covar=W,\n",
        "           angle=[-pi/2, pi/2], range=4, seed=0, animate=True);\n",
        "P0 = np.diag([0.05, 0.05, np.deg2rad(0.5)]) ** 2;\n",
        "ekf = EKF(robot=(robot, V), P0=P0, map=map, sensor=(sensor, W));"
      ]
    },
    {
      "cell_type": "code",
      "execution_count": null,
      "id": "0ed6fddf",
      "metadata": {
        "id": "0ed6fddf"
      },
      "outputs": [],
      "source": [
        "# ekf.run(T=20)\n",
        "html = ekf.run_animation(T=20, format=\"html\")\n",
        "HTML(html)"
      ]
    },
    {
      "cell_type": "code",
      "execution_count": null,
      "id": "cece94da",
      "metadata": {
        "id": "cece94da"
      },
      "outputs": [],
      "source": [
        "map.plot()\n",
        "robot.plot_xy();\n",
        "ekf.plot_xy();\n",
        "ekf.plot_ellipse()"
      ]
    },
    {
      "cell_type": "markdown",
      "id": "9675fc6a",
      "metadata": {
        "id": "9675fc6a"
      },
      "source": [
        "# 6.3 Creating a Landmark Map\n"
      ]
    },
    {
      "cell_type": "code",
      "execution_count": null,
      "id": "1812cd5f",
      "metadata": {
        "id": "1812cd5f"
      },
      "outputs": [],
      "source": [
        "map = LandmarkMap(20, workspace=10, seed=0);\n",
        "robot = Bicycle(covar=V, animation=\"car\");\n",
        "robot.control = RandomPath(workspace=map);\n",
        "W = np.diag([0.1, np.deg2rad(1)]) ** 2\n",
        "sensor = RangeBearingSensor(robot=robot, map=map, covar=W,\n",
        "           range=4, angle=[-pi/2, pi/2], animate=True);\n",
        "ekf = EKF(robot=(robot, None), sensor=(sensor, W));"
      ]
    },
    {
      "cell_type": "code",
      "execution_count": null,
      "id": "c2a9c04d",
      "metadata": {
        "id": "c2a9c04d"
      },
      "outputs": [],
      "source": [
        "# ekf.run(T=100);\n",
        "\n",
        "html = ekf.run_animation(T=100, format=\"html\")\n",
        "HTML(html)"
      ]
    },
    {
      "cell_type": "code",
      "execution_count": null,
      "id": "283f1d2b",
      "metadata": {
        "id": "283f1d2b"
      },
      "outputs": [],
      "source": [
        "map.plot();\n",
        "ekf.plot_map();\n",
        "robot.plot_xy();"
      ]
    },
    {
      "cell_type": "code",
      "execution_count": null,
      "id": "8ffc25a4",
      "metadata": {
        "id": "8ffc25a4"
      },
      "outputs": [],
      "source": [
        "ekf.landmark(10)"
      ]
    },
    {
      "cell_type": "code",
      "execution_count": null,
      "id": "db159f24",
      "metadata": {
        "id": "db159f24"
      },
      "outputs": [],
      "source": [
        "ekf.x_est[24:26]"
      ]
    },
    {
      "cell_type": "code",
      "execution_count": null,
      "id": "190b3ffb",
      "metadata": {
        "id": "190b3ffb"
      },
      "outputs": [],
      "source": [
        "ekf.P_est[24:26, 24:26]"
      ]
    }
  ],
  "metadata": {
    "jupytext": {
      "cell_metadata_filter": "-all",
      "main_language": "python",
      "notebook_metadata_filter": "-all"
    },
    "kernelspec": {
      "display_name": "RVC3",
      "language": "python",
      "name": "python3"
    },
    "language_info": {
      "codemirror_mode": {
        "name": "ipython",
        "version": 3
      },
      "file_extension": ".py",
      "mimetype": "text/x-python",
      "name": "python",
      "nbconvert_exporter": "python",
      "pygments_lexer": "ipython3",
      "version": "3.10.9"
    },
    "colab": {
      "provenance": []
    }
  },
  "nbformat": 4,
  "nbformat_minor": 5
}